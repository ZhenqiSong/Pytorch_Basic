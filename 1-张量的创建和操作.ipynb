{
 "metadata": {
  "language_info": {
   "codemirror_mode": {
    "name": "ipython",
    "version": 3
   },
   "file_extension": ".py",
   "mimetype": "text/x-python",
   "name": "python",
   "nbconvert_exporter": "python",
   "pygments_lexer": "ipython3",
   "version": "3.8.5-final"
  },
  "orig_nbformat": 2,
  "kernelspec": {
   "name": "Python 3.8.5 64-bit ('pytorch': conda)",
   "display_name": "Python 3.8.5 64-bit ('pytorch': conda)",
   "metadata": {
    "interpreter": {
     "hash": "3a362550ed156c021e5b84a71908e939813efb7a71eaf1c23eb41d081a06eda9"
    }
   }
  }
 },
 "nbformat": 4,
 "nbformat_minor": 2,
 "cells": [
  {
   "source": [
    "## Python列表和Numpy数组转换为Pytorch张量"
   ],
   "cell_type": "markdown",
   "metadata": {}
  },
  {
   "cell_type": "code",
   "execution_count": 1,
   "metadata": {},
   "outputs": [],
   "source": [
    "import numpy as np \n",
    "import torch"
   ]
  },
  {
   "cell_type": "code",
   "execution_count": 2,
   "metadata": {},
   "outputs": [
    {
     "output_type": "execute_result",
     "data": {
      "text/plain": [
       "tensor([1, 2, 3, 4])"
      ]
     },
     "metadata": {},
     "execution_count": 2
    }
   ],
   "source": [
    "torch.tensor([1, 2, 3, 4]) # 将列表转为张量"
   ]
  },
  {
   "cell_type": "code",
   "execution_count": 4,
   "metadata": {},
   "outputs": [
    {
     "output_type": "execute_result",
     "data": {
      "text/plain": [
       "torch.int64"
      ]
     },
     "metadata": {},
     "execution_count": 4
    }
   ],
   "source": [
    "torch.tensor([1, 2, 3, 4]).dtype # 查看数据类型 "
   ]
  },
  {
   "cell_type": "code",
   "execution_count": 5,
   "metadata": {},
   "outputs": [
    {
     "output_type": "execute_result",
     "data": {
      "text/plain": [
       "tensor([1., 2., 3., 4.])"
      ]
     },
     "metadata": {},
     "execution_count": 5
    }
   ],
   "source": [
    "torch.tensor([1, 2, 3, 4], dtype=torch.float32) # 指定创建的数据类型"
   ]
  },
  {
   "cell_type": "code",
   "execution_count": 6,
   "metadata": {},
   "outputs": [
    {
     "output_type": "execute_result",
     "data": {
      "text/plain": [
       "tensor([1, 2, 3, 4, 5, 6, 7, 8, 9])"
      ]
     },
     "metadata": {},
     "execution_count": 6
    }
   ],
   "source": [
    "torch.tensor(range(1, 10)) # 转换迭代器为张量"
   ]
  },
  {
   "cell_type": "code",
   "execution_count": 7,
   "metadata": {},
   "outputs": [
    {
     "output_type": "execute_result",
     "data": {
      "text/plain": [
       "tensor([1, 2, 3, 4])"
      ]
     },
     "metadata": {},
     "execution_count": 7
    }
   ],
   "source": [
    "torch.tensor(np.array([1, 2, 3, 4])) # 转换numpy数组为Pytorch张量"
   ]
  },
  {
   "cell_type": "code",
   "execution_count": 8,
   "metadata": {},
   "outputs": [
    {
     "output_type": "execute_result",
     "data": {
      "text/plain": [
       "tensor([[-0.6974,  0.3120,  2.0762],\n",
       "        [ 0.0372, -0.9844,  0.3371],\n",
       "        [ 1.5765, -1.3222,  0.7812]])"
      ]
     },
     "metadata": {},
     "execution_count": 8
    }
   ],
   "source": [
    "torch.randn(3, 3)"
   ]
  },
  {
   "cell_type": "code",
   "execution_count": 9,
   "metadata": {},
   "outputs": [
    {
     "output_type": "execute_result",
     "data": {
      "text/plain": [
       "tensor([[ 0, -2,  0],\n",
       "        [ 0,  0, -1],\n",
       "        [ 1, -1,  0]], dtype=torch.int32)"
      ]
     },
     "metadata": {},
     "execution_count": 9
    }
   ],
   "source": [
    "torch.randn(3, 3).to(torch.int) # 类型转换"
   ]
  },
  {
   "source": [
    "### 张量创建的方法\n",
    "\n",
    "- 通过torch.tensor，可以把已有的列表或者numpy数据转为张量\n",
    "- 通过pytorch内置的函数创建"
   ],
   "cell_type": "markdown",
   "metadata": {}
  },
  {
   "cell_type": "code",
   "execution_count": 11,
   "metadata": {},
   "outputs": [
    {
     "output_type": "execute_result",
     "data": {
      "text/plain": [
       "tensor([[0.6116, 0.0447, 0.9723],\n",
       "        [0.8251, 0.8646, 0.7288],\n",
       "        [0.9402, 0.2453, 0.1350]])"
      ]
     },
     "metadata": {},
     "execution_count": 11
    }
   ],
   "source": [
    "torch.rand(3, 3) # 0, 1均匀分布"
   ]
  },
  {
   "cell_type": "code",
   "execution_count": 12,
   "metadata": {},
   "outputs": [
    {
     "output_type": "execute_result",
     "data": {
      "text/plain": [
       "tensor([[[-1.7402, -2.9717, -0.0682,  1.8217],\n",
       "         [ 0.6076, -0.6944,  2.2820,  1.0732],\n",
       "         [ 0.3321,  1.8219, -2.2338, -1.3025]],\n",
       "\n",
       "        [[ 0.0837,  0.1723,  0.1320, -0.1364],\n",
       "         [ 0.7051, -0.2636, -0.8213, -0.6116],\n",
       "         [ 0.0302,  1.2663,  1.1148, -1.2247]]])"
      ]
     },
     "metadata": {},
     "execution_count": 12
    }
   ],
   "source": [
    "torch.randn(2, 3, 4) # 标准正态分布"
   ]
  },
  {
   "cell_type": "code",
   "execution_count": 13,
   "metadata": {},
   "outputs": [
    {
     "output_type": "execute_result",
     "data": {
      "text/plain": [
       "tensor([[[0., 0.],\n",
       "         [0., 0.]],\n",
       "\n",
       "        [[0., 0.],\n",
       "         [0., 0.]]])"
      ]
     },
     "metadata": {},
     "execution_count": 13
    }
   ],
   "source": [
    "torch.zeros(2, 2, 2) # 全零"
   ]
  },
  {
   "cell_type": "code",
   "execution_count": 14,
   "metadata": {},
   "outputs": [
    {
     "output_type": "execute_result",
     "data": {
      "text/plain": [
       "tensor([[[1., 1., 1.],\n",
       "         [1., 1., 1.]]])"
      ]
     },
     "metadata": {},
     "execution_count": 14
    }
   ],
   "source": [
    "torch.ones(1, 2, 3) # 全一"
   ]
  },
  {
   "cell_type": "code",
   "execution_count": 15,
   "metadata": {},
   "outputs": [
    {
     "output_type": "execute_result",
     "data": {
      "text/plain": [
       "tensor([[1., 0., 0.],\n",
       "        [0., 1., 0.],\n",
       "        [0., 0., 1.]])"
      ]
     },
     "metadata": {},
     "execution_count": 15
    }
   ],
   "source": [
    "torch.eye(3) # 单位矩阵"
   ]
  },
  {
   "cell_type": "code",
   "execution_count": 18,
   "metadata": {},
   "outputs": [
    {
     "output_type": "execute_result",
     "data": {
      "text/plain": [
       "tensor([[5, 6, 1],\n",
       "        [1, 5, 6],\n",
       "        [7, 1, 5]])"
      ]
     },
     "metadata": {},
     "execution_count": 18
    }
   ],
   "source": [
    "torch.randint(1, 10, (3, 3)) # 生成1-10之间均匀分布的整数"
   ]
  },
  {
   "source": [
    "- 通过一直张量创建形状相同的张量"
   ],
   "cell_type": "markdown",
   "metadata": {}
  },
  {
   "cell_type": "code",
   "execution_count": 19,
   "metadata": {},
   "outputs": [],
   "source": [
    "t = torch.randn(3, 3) # 生成一个随机正态分布的张量"
   ]
  },
  {
   "cell_type": "code",
   "execution_count": 20,
   "metadata": {},
   "outputs": [
    {
     "output_type": "execute_result",
     "data": {
      "text/plain": [
       "tensor([[0., 0., 0.],\n",
       "        [0., 0., 0.],\n",
       "        [0., 0., 0.]])"
      ]
     },
     "metadata": {},
     "execution_count": 20
    }
   ],
   "source": [
    "torch.zeros_like(t) # 生成一个元素全为0的张量"
   ]
  },
  {
   "cell_type": "code",
   "execution_count": 21,
   "metadata": {},
   "outputs": [
    {
     "output_type": "execute_result",
     "data": {
      "text/plain": [
       "tensor([[1., 1., 1.],\n",
       "        [1., 1., 1.],\n",
       "        [1., 1., 1.]])"
      ]
     },
     "metadata": {},
     "execution_count": 21
    }
   ],
   "source": [
    "torch.ones_like(t) "
   ]
  },
  {
   "cell_type": "code",
   "execution_count": 22,
   "metadata": {},
   "outputs": [
    {
     "output_type": "execute_result",
     "data": {
      "text/plain": [
       "tensor([[0.4139, 0.0228, 0.6687],\n",
       "        [0.4484, 0.8305, 0.3623],\n",
       "        [0.9167, 0.2757, 0.2155]])"
      ]
     },
     "metadata": {},
     "execution_count": 22
    }
   ],
   "source": [
    "torch.rand_like(t)"
   ]
  },
  {
   "cell_type": "code",
   "execution_count": 23,
   "metadata": {},
   "outputs": [
    {
     "output_type": "execute_result",
     "data": {
      "text/plain": [
       "tensor([[ 0.3741,  0.1107, -1.2638],\n",
       "        [ 0.6456, -0.0989, -0.5506],\n",
       "        [-0.9347,  0.6598,  1.4923]])"
      ]
     },
     "metadata": {},
     "execution_count": 23
    }
   ],
   "source": [
    "torch.randn_like(t)"
   ]
  },
  {
   "cell_type": "code",
   "execution_count": 27,
   "metadata": {},
   "outputs": [
    {
     "output_type": "execute_result",
     "data": {
      "text/plain": [
       "tensor([[4., 2., 1.],\n",
       "        [4., 2., 3.],\n",
       "        [7., 1., 2.]])"
      ]
     },
     "metadata": {},
     "execution_count": 27
    }
   ],
   "source": [
    "torch.randint_like(t, 1, 10)"
   ]
  },
  {
   "source": [
    "- 通过已知张量创建形状不同但数据类型相同的张量"
   ],
   "cell_type": "markdown",
   "metadata": {}
  },
  {
   "cell_type": "code",
   "execution_count": 7,
   "metadata": {},
   "outputs": [],
   "source": [
    "t = torch.randn((3, 3), dtype=torch.float64)"
   ]
  },
  {
   "cell_type": "code",
   "execution_count": 8,
   "metadata": {},
   "outputs": [
    {
     "output_type": "execute_result",
     "data": {
      "text/plain": [
       "tensor([[-0.2892, -2.3305,  1.4133],\n",
       "        [-1.0979,  0.2384, -1.8423],\n",
       "        [-0.0386, -0.1513, -1.0705]], dtype=torch.float64)"
      ]
     },
     "metadata": {},
     "execution_count": 8
    }
   ],
   "source": [
    "t"
   ]
  },
  {
   "cell_type": "code",
   "execution_count": 9,
   "metadata": {},
   "outputs": [
    {
     "output_type": "execute_result",
     "data": {
      "text/plain": [
       "tensor([1., 2., 3.], dtype=torch.float64)"
      ]
     },
     "metadata": {},
     "execution_count": 9
    }
   ],
   "source": [
    "t.new_tensor([1, 2, 3]) # 新的张量只是类型相同"
   ]
  },
  {
   "cell_type": "code",
   "execution_count": 10,
   "metadata": {},
   "outputs": [
    {
     "output_type": "execute_result",
     "data": {
      "text/plain": [
       "tensor([[0., 0., 0.],\n",
       "        [0., 0., 0.],\n",
       "        [0., 0., 0.]], dtype=torch.float64)"
      ]
     },
     "metadata": {},
     "execution_count": 10
    }
   ],
   "source": [
    "t.new_zeros((3, 3))"
   ]
  },
  {
   "source": [
    "### 张量的存储设备"
   ],
   "cell_type": "markdown",
   "metadata": {}
  },
  {
   "cell_type": "code",
   "execution_count": 11,
   "metadata": {},
   "outputs": [
    {
     "output_type": "stream",
     "name": "stdout",
     "text": [
      "Sun Nov  1 18:02:45 2020       \n+-----------------------------------------------------------------------------+\n| NVIDIA-SMI 440.100      Driver Version: 440.100      CUDA Version: 10.2     |\n|-------------------------------+----------------------+----------------------+\n| GPU  Name        Persistence-M| Bus-Id        Disp.A | Volatile Uncorr. ECC |\n| Fan  Temp  Perf  Pwr:Usage/Cap|         Memory-Usage | GPU-Util  Compute M. |\n|===============================+======================+======================|\n|   0  GeForce GTX 1060    Off  | 00000000:01:00.0 Off |                  N/A |\n| N/A   42C    P8     3W /  N/A |    203MiB /  6078MiB |      0%      Default |\n+-------------------------------+----------------------+----------------------+\n                                                                               \n+-----------------------------------------------------------------------------+\n| Processes:                                                       GPU Memory |\n|  GPU       PID   Type   Process name                             Usage      |\n|=============================================================================|\n|    0      1233      G   /usr/lib/xorg/Xorg                            95MiB |\n|    0      1923      G   /usr/bin/gnome-shell                         101MiB |\n|    0      3053      G   /usr/lib/firefox/firefox                       1MiB |\n|    0      3111      G   /usr/lib/firefox/firefox                       1MiB |\n+-----------------------------------------------------------------------------+\n"
     ]
    }
   ],
   "source": [
    "!nvidia-smi"
   ]
  },
  {
   "cell_type": "code",
   "execution_count": 12,
   "metadata": {},
   "outputs": [
    {
     "output_type": "execute_result",
     "data": {
      "text/plain": [
       "tensor([[ 0.5837, -0.2005, -0.0091],\n",
       "        [ 0.0835, -0.2671, -0.9937],\n",
       "        [ 0.6844, -0.6452,  0.8705]])"
      ]
     },
     "metadata": {},
     "execution_count": 12
    }
   ],
   "source": [
    "torch.randn(3, 3, device='cpu')"
   ]
  },
  {
   "cell_type": "code",
   "execution_count": 14,
   "metadata": {},
   "outputs": [
    {
     "output_type": "stream",
     "name": "stdout",
     "text": [
      "tensor([[ 0.1710, -0.8099,  0.3898],\n        [-0.0520,  0.5442, -0.8056],\n        [ 0.2673, -0.6154,  0.6585]], device='cuda:0')\n"
     ]
    }
   ],
   "source": [
    "a = torch.randn(3, 3, device='cuda:0')\n",
    "print(a)"
   ]
  },
  {
   "cell_type": "code",
   "execution_count": 15,
   "metadata": {},
   "outputs": [
    {
     "output_type": "execute_result",
     "data": {
      "text/plain": [
       "device(type='cuda', index=0)"
      ]
     },
     "metadata": {},
     "execution_count": 15
    }
   ],
   "source": [
    "a.device # 张量的设备"
   ]
  },
  {
   "cell_type": "code",
   "execution_count": 16,
   "metadata": {},
   "outputs": [
    {
     "output_type": "execute_result",
     "data": {
      "text/plain": [
       "device(type='cuda', index=0)"
      ]
     },
     "metadata": {},
     "execution_count": 16
    }
   ],
   "source": [
    "torch.rand(3, 3).cuda(0).device # 通过cuda方法将tensor放到GPU"
   ]
  },
  {
   "cell_type": "code",
   "execution_count": 18,
   "metadata": {},
   "outputs": [
    {
     "output_type": "execute_result",
     "data": {
      "text/plain": [
       "device(type='cuda', index=0)"
      ]
     },
     "metadata": {},
     "execution_count": 18
    }
   ],
   "source": [
    "torch.randn(3, 3).to('cuda:0').device # 通过to方法将tensor放到GPU"
   ]
  },
  {
   "source": [
    "### 张量维度操作"
   ],
   "cell_type": "markdown",
   "metadata": {}
  },
  {
   "cell_type": "code",
   "execution_count": 19,
   "metadata": {},
   "outputs": [],
   "source": [
    "t = torch.randn(3, 4, 5)"
   ]
  },
  {
   "cell_type": "code",
   "execution_count": 20,
   "metadata": {},
   "outputs": [
    {
     "output_type": "execute_result",
     "data": {
      "text/plain": [
       "3"
      ]
     },
     "metadata": {},
     "execution_count": 20
    }
   ],
   "source": [
    "t.ndimension() # 获取维度的数目"
   ]
  },
  {
   "cell_type": "code",
   "execution_count": 21,
   "metadata": {},
   "outputs": [
    {
     "output_type": "execute_result",
     "data": {
      "text/plain": [
       "60"
      ]
     },
     "metadata": {},
     "execution_count": 21
    }
   ],
   "source": [
    "t.nelement() # 获取元素的总数目"
   ]
  },
  {
   "cell_type": "code",
   "execution_count": 22,
   "metadata": {},
   "outputs": [
    {
     "output_type": "execute_result",
     "data": {
      "text/plain": [
       "torch.Size([3, 4, 5])"
      ]
     },
     "metadata": {},
     "execution_count": 22
    }
   ],
   "source": [
    "t.size() # 获取该张量每个维度的大小，调用方法"
   ]
  },
  {
   "cell_type": "code",
   "execution_count": 23,
   "metadata": {},
   "outputs": [
    {
     "output_type": "execute_result",
     "data": {
      "text/plain": [
       "torch.Size([3, 4, 5])"
      ]
     },
     "metadata": {},
     "execution_count": 23
    }
   ],
   "source": [
    "t.shape # 获取张量的维度，访问属性"
   ]
  },
  {
   "cell_type": "code",
   "execution_count": 24,
   "metadata": {},
   "outputs": [
    {
     "output_type": "execute_result",
     "data": {
      "text/plain": [
       "3"
      ]
     },
     "metadata": {},
     "execution_count": 24
    }
   ],
   "source": [
    "t.size(0) # 获得维度0的大小"
   ]
  },
  {
   "cell_type": "code",
   "execution_count": 25,
   "metadata": {},
   "outputs": [],
   "source": [
    "t = torch.rand(12)"
   ]
  },
  {
   "cell_type": "code",
   "execution_count": 26,
   "metadata": {},
   "outputs": [
    {
     "output_type": "execute_result",
     "data": {
      "text/plain": [
       "tensor([[0.8621, 0.1244, 0.6044, 0.1869],\n",
       "        [0.6963, 0.5734, 0.4883, 0.2445],\n",
       "        [0.2256, 0.2444, 0.2149, 0.1279]])"
      ]
     },
     "metadata": {},
     "execution_count": 26
    }
   ],
   "source": [
    "t.view(3, 4) # 向量改变形状为 3*4 的矩阵，不改变底层数据，改变view后张量会改变原来的张量"
   ]
  },
  {
   "cell_type": "code",
   "execution_count": 27,
   "metadata": {},
   "outputs": [
    {
     "output_type": "execute_result",
     "data": {
      "text/plain": [
       "tensor([0.8621, 0.1244, 0.6044, 0.1869, 0.6963, 0.5734, 0.4883, 0.2445, 0.2256,\n",
       "        0.2444, 0.2149, 0.1279])"
      ]
     },
     "metadata": {},
     "execution_count": 27
    }
   ],
   "source": [
    "t"
   ]
  },
  {
   "cell_type": "code",
   "execution_count": 29,
   "metadata": {},
   "outputs": [
    {
     "output_type": "execute_result",
     "data": {
      "text/plain": [
       "94609675529024"
      ]
     },
     "metadata": {},
     "execution_count": 29
    }
   ],
   "source": [
    "t.data_ptr() # 获取张量的数据指针"
   ]
  },
  {
   "cell_type": "code",
   "execution_count": 30,
   "metadata": {},
   "outputs": [
    {
     "output_type": "execute_result",
     "data": {
      "text/plain": [
       "94609675529024"
      ]
     },
     "metadata": {},
     "execution_count": 30
    }
   ],
   "source": [
    "t.view(3, 4).data_ptr() # 指针不变"
   ]
  },
  {
   "cell_type": "code",
   "execution_count": 32,
   "metadata": {},
   "outputs": [
    {
     "output_type": "execute_result",
     "data": {
      "text/plain": [
       "94609675529024"
      ]
     },
     "metadata": {},
     "execution_count": 32
    }
   ],
   "source": [
    "t.view(4, 3).contiguous().data_ptr() # 使用contiguous,如果张量的形状和初始维度形状的信息兼容，则会返回当前张量，否则就会返回新的张量"
   ]
  },
  {
   "cell_type": "code",
   "execution_count": 33,
   "metadata": {},
   "outputs": [
    {
     "output_type": "execute_result",
     "data": {
      "text/plain": [
       "94609675087360"
      ]
     },
     "metadata": {},
     "execution_count": 33
    }
   ],
   "source": [
    "t.view(4, 3).transpose(0, 1).contiguous().data_ptr() # 这里会返回一个新的张量"
   ]
  },
  {
   "source": [
    "使用reshpe方法相当于连续调用resize和contiguous"
   ],
   "cell_type": "markdown",
   "metadata": {}
  },
  {
   "source": [
    "### 张量的索引和切片"
   ],
   "cell_type": "markdown",
   "metadata": {}
  },
  {
   "cell_type": "code",
   "execution_count": 35,
   "metadata": {},
   "outputs": [],
   "source": [
    "t = torch.randn(2, 3, 4)"
   ]
  },
  {
   "cell_type": "code",
   "execution_count": 36,
   "metadata": {},
   "outputs": [
    {
     "output_type": "execute_result",
     "data": {
      "text/plain": [
       "tensor(0.9655)"
      ]
     },
     "metadata": {},
     "execution_count": 36
    }
   ],
   "source": [
    "t[1, 2, 3] # 取在0维1号，1维2号，2维3号的元素"
   ]
  },
  {
   "cell_type": "code",
   "execution_count": 37,
   "metadata": {},
   "outputs": [
    {
     "output_type": "execute_result",
     "data": {
      "text/plain": [
       "tensor([[[-0.4711,  0.7185]],\n",
       "\n",
       "        [[-0.0153,  1.0690]]])"
      ]
     },
     "metadata": {},
     "execution_count": 37
    }
   ],
   "source": [
    "t[:, 1:-1, 1:3]"
   ]
  },
  {
   "cell_type": "code",
   "execution_count": 38,
   "metadata": {},
   "outputs": [
    {
     "output_type": "execute_result",
     "data": {
      "text/plain": [
       "tensor([[[ 1.0214,  0.4824, -0.8190, -0.7381],\n",
       "         [-0.6275, -0.4711,  0.7185, -2.1205],\n",
       "         [-0.5769,  0.5260,  0.9779, -0.1027]],\n",
       "\n",
       "        [[-0.7817,  1.8773, -0.4806, -1.6804],\n",
       "         [ 0.0275, -0.0153,  1.0690,  0.2106],\n",
       "         [ 0.9030,  0.2104,  1.0886,  0.9655]]])"
      ]
     },
     "metadata": {},
     "execution_count": 38
    }
   ],
   "source": [
    "t"
   ]
  },
  {
   "cell_type": "code",
   "execution_count": 39,
   "metadata": {},
   "outputs": [
    {
     "output_type": "execute_result",
     "data": {
      "text/plain": [
       "tensor([[[ True,  True, False, False],\n",
       "         [False, False,  True, False],\n",
       "         [False,  True,  True, False]],\n",
       "\n",
       "        [[False,  True, False, False],\n",
       "         [ True, False,  True,  True],\n",
       "         [ True,  True,  True,  True]]])"
      ]
     },
     "metadata": {},
     "execution_count": 39
    }
   ],
   "source": [
    "t > 0 "
   ]
  },
  {
   "cell_type": "code",
   "execution_count": 40,
   "metadata": {},
   "outputs": [
    {
     "output_type": "execute_result",
     "data": {
      "text/plain": [
       "tensor([1.0214, 0.4824, 0.7185, 0.5260, 0.9779, 1.8773, 0.0275, 1.0690, 0.2106,\n",
       "        0.9030, 0.2104, 1.0886, 0.9655])"
      ]
     },
     "metadata": {},
     "execution_count": 40
    }
   ],
   "source": [
    "t[t>0] # 张量大于0的值"
   ]
  },
  {
   "cell_type": "code",
   "execution_count": null,
   "metadata": {},
   "outputs": [],
   "source": []
  }
 ]
}