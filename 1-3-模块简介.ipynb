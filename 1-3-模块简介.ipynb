{
 "metadata": {
  "language_info": {
   "codemirror_mode": {
    "name": "ipython",
    "version": 3
   },
   "file_extension": ".py",
   "mimetype": "text/x-python",
   "name": "python",
   "nbconvert_exporter": "python",
   "pygments_lexer": "ipython3",
   "version": "3.8.5-final"
  },
  "orig_nbformat": 2,
  "kernelspec": {
   "name": "Python 3.8.5 64-bit ('pytorch': conda)",
   "display_name": "Python 3.8.5 64-bit ('pytorch': conda)",
   "metadata": {
    "interpreter": {
     "hash": "3a362550ed156c021e5b84a71908e939813efb7a71eaf1c23eb41d081a06eda9"
    }
   }
  }
 },
 "nbformat": 4,
 "nbformat_minor": 2,
 "cells": [
  {
   "source": [
    "# 简单线性回归"
   ],
   "cell_type": "markdown",
   "metadata": {}
  },
  {
   "cell_type": "code",
   "execution_count": 2,
   "metadata": {},
   "outputs": [],
   "source": [
    "import torch \n",
    "import torch.nn as nn"
   ]
  },
  {
   "cell_type": "code",
   "execution_count": 7,
   "metadata": {},
   "outputs": [],
   "source": [
    "class LinearModel(nn.Module):\n",
    "    def __init__(self, ndim):\n",
    "        super(LinearModel, self).__init__()\n",
    "        self.ndim = ndim\n",
    "\n",
    "        self.weight = nn.Parameter(torch.randn(ndim, 1))\n",
    "        self.bias = nn.Parameter(torch.randn(1))\n",
    "\n",
    "    def forward(self, x):\n",
    "        return torch.add(torch.mm(x, self.weight), self.bias)"
   ]
  },
  {
   "cell_type": "code",
   "execution_count": 8,
   "metadata": {},
   "outputs": [],
   "source": [
    "lm = LinearModel(5)"
   ]
  },
  {
   "cell_type": "code",
   "execution_count": 9,
   "metadata": {},
   "outputs": [],
   "source": [
    "x = torch.randn(4, 5)"
   ]
  },
  {
   "cell_type": "code",
   "execution_count": 10,
   "metadata": {},
   "outputs": [
    {
     "output_type": "execute_result",
     "data": {
      "text/plain": [
       "tensor([[-0.7419],\n",
       "        [-2.4253],\n",
       "        [-0.5803],\n",
       "        [ 0.6768]], grad_fn=<AddBackward0>)"
      ]
     },
     "metadata": {},
     "execution_count": 10
    }
   ],
   "source": [
    "lm(x)"
   ]
  },
  {
   "source": [
    "# 类的实例化和方法调用"
   ],
   "cell_type": "markdown",
   "metadata": {}
  },
  {
   "source": [
    "- named_parameters, parameters 返回参数生成器\n",
    "- train, eval 切换训练和测试状态\n",
    "- named_buffers buffers 表示不需要反向传播更新参数，但是需要更新的参数，如BN层的mean和variance\n",
    "- named_children, children 获取子模块\n",
    "- apply 如果需要对所有模块应用一个函数，可以使用apply方法，通过传入一个函数或着匿名函数来递归的应用这些函数\n",
    "- 改变模块参数数据类型和存储的位置， to方法"
   ],
   "cell_type": "markdown",
   "metadata": {}
  },
  {
   "cell_type": "code",
   "execution_count": 13,
   "metadata": {},
   "outputs": [],
   "source": [
    "lm = LinearModel(5)"
   ]
  },
  {
   "cell_type": "code",
   "execution_count": 14,
   "metadata": {},
   "outputs": [],
   "source": [
    "x = torch.randn(4, 5)"
   ]
  },
  {
   "cell_type": "code",
   "execution_count": 15,
   "metadata": {},
   "outputs": [
    {
     "output_type": "execute_result",
     "data": {
      "text/plain": [
       "tensor([[ 2.6166],\n",
       "        [ 2.2782],\n",
       "        [-0.7478],\n",
       "        [ 1.9352]], grad_fn=<AddBackward0>)"
      ]
     },
     "metadata": {},
     "execution_count": 15
    }
   ],
   "source": [
    "lm(x)"
   ]
  },
  {
   "cell_type": "code",
   "execution_count": 16,
   "metadata": {},
   "outputs": [
    {
     "output_type": "execute_result",
     "data": {
      "text/plain": [
       "<generator object Module.named_parameters at 0x7ff0f4034430>"
      ]
     },
     "metadata": {},
     "execution_count": 16
    }
   ],
   "source": [
    "lm.named_parameters()"
   ]
  },
  {
   "cell_type": "code",
   "execution_count": 18,
   "metadata": {},
   "outputs": [
    {
     "output_type": "execute_result",
     "data": {
      "text/plain": [
       "[('weight',\n",
       "  Parameter containing:\n",
       "  tensor([[ 0.5292],\n",
       "          [-0.2425],\n",
       "          [-1.1718],\n",
       "          [-0.5390],\n",
       "          [-0.4169]], requires_grad=True)),\n",
       " ('bias',\n",
       "  Parameter containing:\n",
       "  tensor([1.6088], requires_grad=True))]"
      ]
     },
     "metadata": {},
     "execution_count": 18
    }
   ],
   "source": [
    "list(lm.named_parameters())"
   ]
  },
  {
   "cell_type": "code",
   "execution_count": 19,
   "metadata": {},
   "outputs": [
    {
     "output_type": "execute_result",
     "data": {
      "text/plain": [
       "[Parameter containing:\n",
       " tensor([[ 0.5292],\n",
       "         [-0.2425],\n",
       "         [-1.1718],\n",
       "         [-0.5390],\n",
       "         [-0.4169]], requires_grad=True),\n",
       " Parameter containing:\n",
       " tensor([1.6088], requires_grad=True)]"
      ]
     },
     "metadata": {},
     "execution_count": 19
    }
   ],
   "source": [
    "list(lm.parameters())"
   ]
  },
  {
   "cell_type": "code",
   "execution_count": 20,
   "metadata": {},
   "outputs": [
    {
     "output_type": "execute_result",
     "data": {
      "text/plain": [
       "LinearModel()"
      ]
     },
     "metadata": {},
     "execution_count": 20
    }
   ],
   "source": [
    "lm.cuda()"
   ]
  },
  {
   "cell_type": "code",
   "execution_count": 21,
   "metadata": {},
   "outputs": [
    {
     "output_type": "execute_result",
     "data": {
      "text/plain": [
       "[Parameter containing:\n",
       " tensor([[ 0.5292],\n",
       "         [-0.2425],\n",
       "         [-1.1718],\n",
       "         [-0.5390],\n",
       "         [-0.4169]], device='cuda:0', requires_grad=True),\n",
       " Parameter containing:\n",
       " tensor([1.6088], device='cuda:0', requires_grad=True)]"
      ]
     },
     "metadata": {},
     "execution_count": 21
    }
   ],
   "source": [
    "list(lm.parameters())"
   ]
  },
  {
   "cell_type": "code",
   "execution_count": 22,
   "metadata": {},
   "outputs": [
    {
     "output_type": "execute_result",
     "data": {
      "text/plain": [
       "LinearModel()"
      ]
     },
     "metadata": {},
     "execution_count": 22
    }
   ],
   "source": [
    "lm.half()"
   ]
  },
  {
   "cell_type": "code",
   "execution_count": 23,
   "metadata": {},
   "outputs": [
    {
     "output_type": "execute_result",
     "data": {
      "text/plain": [
       "[Parameter containing:\n",
       " tensor([[ 0.5293],\n",
       "         [-0.2424],\n",
       "         [-1.1719],\n",
       "         [-0.5391],\n",
       "         [-0.4170]], device='cuda:0', dtype=torch.float16, requires_grad=True),\n",
       " Parameter containing:\n",
       " tensor([1.6084], device='cuda:0', dtype=torch.float16, requires_grad=True)]"
      ]
     },
     "metadata": {},
     "execution_count": 23
    }
   ],
   "source": [
    "list(lm.parameters())"
   ]
  },
  {
   "cell_type": "code",
   "execution_count": null,
   "metadata": {},
   "outputs": [],
   "source": []
  }
 ]
}