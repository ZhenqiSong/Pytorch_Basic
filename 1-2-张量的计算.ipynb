{
 "metadata": {
  "language_info": {
   "codemirror_mode": {
    "name": "ipython",
    "version": 3
   },
   "file_extension": ".py",
   "mimetype": "text/x-python",
   "name": "python",
   "nbconvert_exporter": "python",
   "pygments_lexer": "ipython3",
   "version": "3.8.5-final"
  },
  "orig_nbformat": 2,
  "kernelspec": {
   "name": "Python 3.8.5 64-bit ('pytorch': conda)",
   "display_name": "Python 3.8.5 64-bit ('pytorch': conda)",
   "metadata": {
    "interpreter": {
     "hash": "3a362550ed156c021e5b84a71908e939813efb7a71eaf1c23eb41d081a06eda9"
    }
   }
  }
 },
 "nbformat": 4,
 "nbformat_minor": 2,
 "cells": [
  {
   "source": [
    "# 单个张量的函数运算"
   ],
   "cell_type": "markdown",
   "metadata": {}
  },
  {
   "cell_type": "code",
   "execution_count": 2,
   "metadata": {},
   "outputs": [],
   "source": [
    "import torch"
   ]
  },
  {
   "cell_type": "code",
   "execution_count": 3,
   "metadata": {},
   "outputs": [
    {
     "output_type": "execute_result",
     "data": {
      "text/plain": [
       "tensor([[0.1160, 0.5626, 0.0851, 0.7409],\n",
       "        [0.3103, 0.5866, 0.9324, 0.3886],\n",
       "        [0.5576, 0.5405, 0.8807, 0.3356]])"
      ]
     },
     "metadata": {},
     "execution_count": 3
    }
   ],
   "source": [
    "t1 = torch.rand(3, 4)\n",
    "t1"
   ]
  },
  {
   "cell_type": "code",
   "execution_count": 4,
   "metadata": {},
   "outputs": [
    {
     "output_type": "execute_result",
     "data": {
      "text/plain": [
       "tensor([[0.3406, 0.7500, 0.2917, 0.8607],\n",
       "        [0.5571, 0.7659, 0.9656, 0.6234],\n",
       "        [0.7467, 0.7352, 0.9385, 0.5793]])"
      ]
     },
     "metadata": {},
     "execution_count": 4
    }
   ],
   "source": [
    "t1.sqrt() # 张量求平方根"
   ]
  },
  {
   "cell_type": "code",
   "execution_count": 5,
   "metadata": {},
   "outputs": [
    {
     "output_type": "execute_result",
     "data": {
      "text/plain": [
       "tensor([[0.3406, 0.7500, 0.2917, 0.8607],\n",
       "        [0.5571, 0.7659, 0.9656, 0.6234],\n",
       "        [0.7467, 0.7352, 0.9385, 0.5793]])"
      ]
     },
     "metadata": {},
     "execution_count": 5
    }
   ],
   "source": [
    "torch.sqrt(t1) # 平方根的函数形式"
   ]
  },
  {
   "cell_type": "code",
   "execution_count": 6,
   "metadata": {},
   "outputs": [
    {
     "output_type": "execute_result",
     "data": {
      "text/plain": [
       "tensor([[0.3406, 0.7500, 0.2917, 0.8607],\n",
       "        [0.5571, 0.7659, 0.9656, 0.6234],\n",
       "        [0.7467, 0.7352, 0.9385, 0.5793]])"
      ]
     },
     "metadata": {},
     "execution_count": 6
    }
   ],
   "source": [
    "t1.sqrt_() # 这种形式改变t1的值"
   ]
  },
  {
   "cell_type": "code",
   "execution_count": 7,
   "metadata": {},
   "outputs": [
    {
     "output_type": "execute_result",
     "data": {
      "text/plain": [
       "tensor([[0.3406, 0.7500, 0.2917, 0.8607],\n",
       "        [0.5571, 0.7659, 0.9656, 0.6234],\n",
       "        [0.7467, 0.7352, 0.9385, 0.5793]])"
      ]
     },
     "metadata": {},
     "execution_count": 7
    }
   ],
   "source": [
    "t1"
   ]
  },
  {
   "cell_type": "code",
   "execution_count": 8,
   "metadata": {},
   "outputs": [
    {
     "output_type": "execute_result",
     "data": {
      "text/plain": [
       "tensor(8.1547)"
      ]
     },
     "metadata": {},
     "execution_count": 8
    }
   ],
   "source": [
    "torch.sum(t1) # 默认对所有元素求和"
   ]
  },
  {
   "cell_type": "code",
   "execution_count": 9,
   "metadata": {},
   "outputs": [
    {
     "output_type": "execute_result",
     "data": {
      "text/plain": [
       "tensor([1.6444, 2.2512, 2.1958, 2.0634])"
      ]
     },
     "metadata": {},
     "execution_count": 9
    }
   ],
   "source": [
    "torch.sum(t1, 0) # 对第0维的元素求和"
   ]
  },
  {
   "cell_type": "code",
   "execution_count": 10,
   "metadata": {},
   "outputs": [
    {
     "output_type": "execute_result",
     "data": {
      "text/plain": [
       "tensor(8.1547)"
      ]
     },
     "metadata": {},
     "execution_count": 10
    }
   ],
   "source": [
    "torch.sum(t1, [0, 1]) # 对0， 1维的元素求和"
   ]
  },
  {
   "cell_type": "code",
   "execution_count": 12,
   "metadata": {},
   "outputs": [
    {
     "output_type": "execute_result",
     "data": {
      "text/plain": [
       "tensor(0.6796)"
      ]
     },
     "metadata": {},
     "execution_count": 12
    }
   ],
   "source": [
    "torch.mean(t1) # 对所有元素求平均"
   ]
  },
  {
   "cell_type": "code",
   "execution_count": 13,
   "metadata": {},
   "outputs": [
    {
     "output_type": "execute_result",
     "data": {
      "text/plain": [
       "tensor(0.6796)"
      ]
     },
     "metadata": {},
     "execution_count": 13
    }
   ],
   "source": [
    "t1.mean()"
   ]
  },
  {
   "cell_type": "code",
   "execution_count": 14,
   "metadata": {},
   "outputs": [
    {
     "output_type": "execute_result",
     "data": {
      "text/plain": [
       "tensor([0.5481, 0.7504, 0.7319, 0.6878])"
      ]
     },
     "metadata": {},
     "execution_count": 14
    }
   ],
   "source": [
    "torch.mean(t1, 0) # 对第0维的元素求平均"
   ]
  },
  {
   "source": [
    "# 涉及多个张量的函数运算"
   ],
   "cell_type": "markdown",
   "metadata": {}
  },
  {
   "cell_type": "code",
   "execution_count": 16,
   "metadata": {},
   "outputs": [],
   "source": [
    "t1 = torch.rand(2, 3)\n",
    "t2 = torch.rand(2, 3)"
   ]
  },
  {
   "cell_type": "code",
   "execution_count": 17,
   "metadata": {},
   "outputs": [
    {
     "output_type": "execute_result",
     "data": {
      "text/plain": [
       "tensor([[0.2799, 1.0655, 0.9369],\n",
       "        [1.0296, 0.6460, 1.2424]])"
      ]
     },
     "metadata": {},
     "execution_count": 17
    }
   ],
   "source": [
    "t1.add(t2) # 不改变参与运算的张量值"
   ]
  },
  {
   "cell_type": "code",
   "execution_count": 18,
   "metadata": {},
   "outputs": [
    {
     "output_type": "execute_result",
     "data": {
      "text/plain": [
       "tensor([[0.2799, 1.0655, 0.9369],\n",
       "        [1.0296, 0.6460, 1.2424]])"
      ]
     },
     "metadata": {},
     "execution_count": 18
    }
   ],
   "source": [
    "t1 + t2"
   ]
  },
  {
   "cell_type": "code",
   "execution_count": 19,
   "metadata": {},
   "outputs": [
    {
     "output_type": "execute_result",
     "data": {
      "text/plain": [
       "tensor([[True, True, True],\n",
       "        [True, True, True]])"
      ]
     },
     "metadata": {},
     "execution_count": 19
    }
   ],
   "source": [
    "t1.sub(t2) == t1 - t2"
   ]
  },
  {
   "cell_type": "code",
   "execution_count": 20,
   "metadata": {},
   "outputs": [
    {
     "output_type": "execute_result",
     "data": {
      "text/plain": [
       "tensor([[0.0166, 0.2037, 0.2144],\n",
       "        [0.2055, 0.0074, 0.3498]])"
      ]
     },
     "metadata": {},
     "execution_count": 20
    }
   ],
   "source": [
    "t1.mul(t2) # 乘"
   ]
  },
  {
   "cell_type": "code",
   "execution_count": 21,
   "metadata": {},
   "outputs": [
    {
     "output_type": "execute_result",
     "data": {
      "text/plain": [
       "tensor([[ 0.4383,  0.3061,  1.3559],\n",
       "        [ 0.3568, 54.4160,  0.5316]])"
      ]
     },
     "metadata": {},
     "execution_count": 21
    }
   ],
   "source": [
    "t1.div(t2) # 除"
   ]
  },
  {
   "cell_type": "code",
   "execution_count": 22,
   "metadata": {},
   "outputs": [
    {
     "output_type": "execute_result",
     "data": {
      "text/plain": [
       "tensor([[0.2799, 1.0655, 0.9369],\n",
       "        [1.0296, 0.6460, 1.2424]])"
      ]
     },
     "metadata": {},
     "execution_count": 22
    }
   ],
   "source": [
    "t1.add_(t2) # 结果保存到t1中 "
   ]
  },
  {
   "cell_type": "code",
   "execution_count": 23,
   "metadata": {},
   "outputs": [
    {
     "output_type": "execute_result",
     "data": {
      "text/plain": [
       "(tensor([[0.2799, 1.0655, 0.9369],\n",
       "         [1.0296, 0.6460, 1.2424]]),\n",
       " tensor([[0.1946, 0.8158, 0.3977],\n",
       "         [0.7589, 0.0117, 0.8112]]))"
      ]
     },
     "metadata": {},
     "execution_count": 23
    }
   ],
   "source": [
    "t1, t2"
   ]
  },
  {
   "source": [
    "# 张量的极值和排序"
   ],
   "cell_type": "markdown",
   "metadata": {}
  },
  {
   "cell_type": "code",
   "execution_count": 24,
   "metadata": {},
   "outputs": [
    {
     "output_type": "execute_result",
     "data": {
      "text/plain": [
       "tensor([[ 0.7509, -1.5937,  0.1020, -0.9444],\n",
       "        [ 0.9461, -0.0274,  0.7679,  1.3770],\n",
       "        [ 0.1404,  0.5138, -0.1843,  0.7331]])"
      ]
     },
     "metadata": {},
     "execution_count": 24
    }
   ],
   "source": [
    "t = torch.randn(3, 4)\n",
    "t"
   ]
  },
  {
   "source": [
    "`argmax`和`argmin`用来获取指定维度最大或最小值的索引"
   ],
   "cell_type": "markdown",
   "metadata": {}
  },
  {
   "cell_type": "code",
   "execution_count": 25,
   "metadata": {},
   "outputs": [
    {
     "output_type": "execute_result",
     "data": {
      "text/plain": [
       "tensor([1, 2, 1, 1])"
      ]
     },
     "metadata": {},
     "execution_count": 25
    }
   ],
   "source": [
    "torch.argmax(t, 0)"
   ]
  },
  {
   "cell_type": "code",
   "execution_count": 26,
   "metadata": {},
   "outputs": [
    {
     "output_type": "execute_result",
     "data": {
      "text/plain": [
       "tensor([0, 3, 3])"
      ]
     },
     "metadata": {},
     "execution_count": 26
    }
   ],
   "source": [
    "torch.argmax(t, 1)"
   ]
  },
  {
   "cell_type": "code",
   "execution_count": 27,
   "metadata": {},
   "outputs": [
    {
     "output_type": "execute_result",
     "data": {
      "text/plain": [
       "torch.return_types.max(\n",
       "values=tensor([0.7509, 1.3770, 0.7331]),\n",
       "indices=tensor([0, 3, 3]))"
      ]
     },
     "metadata": {},
     "execution_count": 27
    }
   ],
   "source": [
    "torch.max(t, -1)"
   ]
  },
  {
   "cell_type": "code",
   "execution_count": 28,
   "metadata": {},
   "outputs": [
    {
     "output_type": "execute_result",
     "data": {
      "text/plain": [
       "tensor([0.7509, 1.3770, 0.7331])"
      ]
     },
     "metadata": {},
     "execution_count": 28
    }
   ],
   "source": [
    "torch.max(t, -1).values"
   ]
  },
  {
   "cell_type": "code",
   "execution_count": 30,
   "metadata": {},
   "outputs": [
    {
     "output_type": "execute_result",
     "data": {
      "text/plain": [
       "torch.return_types.min(\n",
       "values=tensor([ 0.1404, -1.5937, -0.1843, -0.9444]),\n",
       "indices=tensor([2, 0, 2, 0]))"
      ]
     },
     "metadata": {},
     "execution_count": 30
    }
   ],
   "source": [
    "t.min(0) # 通过张量本身的方法调用"
   ]
  },
  {
   "cell_type": "code",
   "execution_count": 31,
   "metadata": {},
   "outputs": [
    {
     "output_type": "execute_result",
     "data": {
      "text/plain": [
       "torch.return_types.sort(\n",
       "values=tensor([[-1.5937, -0.9444,  0.1020,  0.7509],\n",
       "        [-0.0274,  0.7679,  0.9461,  1.3770],\n",
       "        [-0.1843,  0.1404,  0.5138,  0.7331]]),\n",
       "indices=tensor([[1, 3, 2, 0],\n",
       "        [1, 2, 0, 3],\n",
       "        [2, 0, 1, 3]]))"
      ]
     },
     "metadata": {},
     "execution_count": 31
    }
   ],
   "source": [
    "t.sort() # 默认从小到大"
   ]
  },
  {
   "cell_type": "code",
   "execution_count": 32,
   "metadata": {},
   "outputs": [
    {
     "output_type": "execute_result",
     "data": {
      "text/plain": [
       "torch.return_types.sort(\n",
       "values=tensor([[ 0.1404, -1.5937, -0.1843, -0.9444],\n",
       "        [ 0.7509, -0.0274,  0.1020,  0.7331],\n",
       "        [ 0.9461,  0.5138,  0.7679,  1.3770]]),\n",
       "indices=tensor([[2, 0, 2, 0],\n",
       "        [0, 1, 0, 2],\n",
       "        [1, 2, 1, 1]]))"
      ]
     },
     "metadata": {},
     "execution_count": 32
    }
   ],
   "source": [
    "t.sort(0) # 指定维度排序"
   ]
  },
  {
   "cell_type": "code",
   "execution_count": 33,
   "metadata": {},
   "outputs": [
    {
     "output_type": "execute_result",
     "data": {
      "text/plain": [
       "torch.return_types.sort(\n",
       "values=tensor([[ 0.7509,  0.1020, -0.9444, -1.5937],\n",
       "        [ 1.3770,  0.9461,  0.7679, -0.0274],\n",
       "        [ 0.7331,  0.5138,  0.1404, -0.1843]]),\n",
       "indices=tensor([[0, 2, 3, 1],\n",
       "        [3, 0, 2, 1],\n",
       "        [3, 1, 0, 2]]))"
      ]
     },
     "metadata": {},
     "execution_count": 33
    }
   ],
   "source": [
    "torch.sort(t, descending=True) # 降序排序"
   ]
  },
  {
   "source": [
    "# 张量的乘法和张量的缩并"
   ],
   "cell_type": "markdown",
   "metadata": {}
  },
  {
   "cell_type": "code",
   "execution_count": 35,
   "metadata": {},
   "outputs": [],
   "source": [
    "a = torch.randn(3, 4)\n",
    "b = torch.randn(4, 5)"
   ]
  },
  {
   "cell_type": "code",
   "execution_count": 36,
   "metadata": {},
   "outputs": [
    {
     "output_type": "execute_result",
     "data": {
      "text/plain": [
       "tensor([[ 1.1677, -2.7377, -1.6283, -0.3308, -0.0712],\n",
       "        [ 1.3637, -3.0081, -1.3796,  0.4200,  0.8895],\n",
       "        [-1.3427,  0.1237,  1.1927, -0.1227, -1.0071]])"
      ]
     },
     "metadata": {},
     "execution_count": 36
    }
   ],
   "source": [
    "torch.mm(a, b) # torch函数矩阵相乘"
   ]
  },
  {
   "cell_type": "code",
   "execution_count": 37,
   "metadata": {},
   "outputs": [
    {
     "output_type": "execute_result",
     "data": {
      "text/plain": [
       "tensor([[ 1.1677, -2.7377, -1.6283, -0.3308, -0.0712],\n",
       "        [ 1.3637, -3.0081, -1.3796,  0.4200,  0.8895],\n",
       "        [-1.3427,  0.1237,  1.1927, -0.1227, -1.0071]])"
      ]
     },
     "metadata": {},
     "execution_count": 37
    }
   ],
   "source": [
    "a.mm(b) # 张量方法"
   ]
  },
  {
   "cell_type": "code",
   "execution_count": 38,
   "metadata": {},
   "outputs": [
    {
     "output_type": "execute_result",
     "data": {
      "text/plain": [
       "tensor([[ 1.1677, -2.7377, -1.6283, -0.3308, -0.0712],\n",
       "        [ 1.3637, -3.0081, -1.3796,  0.4200,  0.8895],\n",
       "        [-1.3427,  0.1237,  1.1927, -0.1227, -1.0071]])"
      ]
     },
     "metadata": {},
     "execution_count": 38
    }
   ],
   "source": [
    "a@b # 符号"
   ]
  },
  {
   "source": [
    "minibatch 的batch相乘"
   ],
   "cell_type": "markdown",
   "metadata": {}
  },
  {
   "cell_type": "code",
   "execution_count": 39,
   "metadata": {},
   "outputs": [],
   "source": [
    "a = torch.randn(2, 2, 3)\n",
    "b = torch.randn(2, 3, 4)"
   ]
  },
  {
   "cell_type": "code",
   "execution_count": 40,
   "metadata": {},
   "outputs": [
    {
     "output_type": "execute_result",
     "data": {
      "text/plain": [
       "tensor([[[ 0.0980, -0.8993,  0.5493, -0.0320],\n",
       "         [-1.6340, -1.6821,  2.0715, -0.5947]],\n",
       "\n",
       "        [[-0.9719, -2.0814,  2.6325, -1.0290],\n",
       "         [-0.1537,  0.1825,  0.6954, -0.0447]]])"
      ]
     },
     "metadata": {},
     "execution_count": 40
    }
   ],
   "source": [
    "torch.bmm(a, b)"
   ]
  },
  {
   "cell_type": "code",
   "execution_count": 41,
   "metadata": {},
   "outputs": [
    {
     "output_type": "execute_result",
     "data": {
      "text/plain": [
       "tensor([[[ 0.0980, -0.8993,  0.5493, -0.0320],\n",
       "         [-1.6340, -1.6821,  2.0715, -0.5947]],\n",
       "\n",
       "        [[-0.9719, -2.0814,  2.6325, -1.0290],\n",
       "         [-0.1537,  0.1825,  0.6954, -0.0447]]])"
      ]
     },
     "metadata": {},
     "execution_count": 41
    }
   ],
   "source": [
    "a.bmm(b)"
   ]
  },
  {
   "cell_type": "code",
   "execution_count": 42,
   "metadata": {},
   "outputs": [
    {
     "output_type": "execute_result",
     "data": {
      "text/plain": [
       "tensor([[[ 0.0980, -0.8993,  0.5493, -0.0320],\n",
       "         [-1.6340, -1.6821,  2.0715, -0.5947]],\n",
       "\n",
       "        [[-0.9719, -2.0814,  2.6325, -1.0290],\n",
       "         [-0.1537,  0.1825,  0.6954, -0.0447]]])"
      ]
     },
     "metadata": {},
     "execution_count": 42
    }
   ],
   "source": [
    "a @ b # 根据输入张量的形状计算"
   ]
  },
  {
   "source": [
    "对于更高维度的张量，需要用到爱因斯坦求和乘法，指定维度"
   ],
   "cell_type": "markdown",
   "metadata": {}
  },
  {
   "cell_type": "code",
   "execution_count": 43,
   "metadata": {},
   "outputs": [
    {
     "output_type": "execute_result",
     "data": {
      "text/plain": [
       "tensor([[[ 0.0980, -0.8993,  0.5493, -0.0320],\n",
       "         [-1.6340, -1.6821,  2.0715, -0.5947]],\n",
       "\n",
       "        [[-0.9719, -2.0814,  2.6325, -1.0290],\n",
       "         [-0.1537,  0.1825,  0.6954, -0.0447]]])"
      ]
     },
     "metadata": {},
     "execution_count": 43
    }
   ],
   "source": [
    "torch.einsum('bnk,bkl->bnl', a, b)"
   ]
  },
  {
   "source": [
    "# 张量的拼接和分割"
   ],
   "cell_type": "markdown",
   "metadata": {}
  },
  {
   "source": [
    "- torch.stack 通过传入的张量列表，同时指定并创建一个维度，把列表的张量沿着该维度堆叠起来，并返回堆叠以后的张量。传入的张量列表中所有的张量大小必须一致\n",
    "- torch.cat 与stack的区别是张量列表中的数据本来就有维度，不用创建\n",
    "- torch.split 叠加操作的反向操作，输出是沿着某个维度分割后的列表，需要传入三个参数：分割后的张量，分割后维度的大小，分割的维度\n",
    "- torch.chunk 和split函数的功能类似，区别在于前者传入参数是分割的段数，输入张量在该维度的大小需要被分割的段数整除"
   ],
   "cell_type": "markdown",
   "metadata": {}
  },
  {
   "cell_type": "code",
   "execution_count": 44,
   "metadata": {},
   "outputs": [],
   "source": [
    "t1 = torch.randn(3, 4)\n",
    "t2 = torch.randn(3, 4)\n",
    "t3 = torch.randn(3, 4)\n",
    "t4 = torch.randn(3, 2)"
   ]
  },
  {
   "cell_type": "code",
   "execution_count": 45,
   "metadata": {},
   "outputs": [
    {
     "output_type": "execute_result",
     "data": {
      "text/plain": [
       "torch.Size([3, 4, 3])"
      ]
     },
     "metadata": {},
     "execution_count": 45
    }
   ],
   "source": [
    "torch.stack([t1, t2, t3], -1).shape"
   ]
  },
  {
   "cell_type": "code",
   "execution_count": 46,
   "metadata": {},
   "outputs": [
    {
     "output_type": "execute_result",
     "data": {
      "text/plain": [
       "torch.Size([3, 3, 4])"
      ]
     },
     "metadata": {},
     "execution_count": 46
    }
   ],
   "source": [
    "torch.stack([t1, t2, t3], 1).shape\n"
   ]
  },
  {
   "cell_type": "code",
   "execution_count": 48,
   "metadata": {},
   "outputs": [
    {
     "output_type": "execute_result",
     "data": {
      "text/plain": [
       "torch.Size([3, 12])"
      ]
     },
     "metadata": {},
     "execution_count": 48
    }
   ],
   "source": [
    "torch.cat([t1, t2, t3], -1).shape"
   ]
  },
  {
   "cell_type": "code",
   "execution_count": 1,
   "metadata": {},
   "outputs": [],
   "source": [
    "import torch"
   ]
  },
  {
   "cell_type": "code",
   "execution_count": 2,
   "metadata": {},
   "outputs": [],
   "source": [
    "a = torch.randn(3, 6)"
   ]
  },
  {
   "cell_type": "code",
   "execution_count": 3,
   "metadata": {},
   "outputs": [
    {
     "output_type": "execute_result",
     "data": {
      "text/plain": [
       "(tensor([[-0.5847],\n",
       "         [-0.7526],\n",
       "         [ 0.0106]]),\n",
       " tensor([[-0.8095,  0.4320],\n",
       "         [ 1.5990,  0.9240],\n",
       "         [ 1.8498, -0.2866]]),\n",
       " tensor([[-1.8227, -0.0788,  2.0047],\n",
       "         [-0.6908,  1.6348,  0.1549],\n",
       "         [ 1.2243,  0.0380, -1.2884]]))"
      ]
     },
     "metadata": {},
     "execution_count": 3
    }
   ],
   "source": [
    "a.split([1, 2, 3], -1) # 通过列表指定分成的大小"
   ]
  },
  {
   "cell_type": "code",
   "execution_count": 4,
   "metadata": {},
   "outputs": [
    {
     "output_type": "execute_result",
     "data": {
      "text/plain": [
       "(tensor([[-0.5847, -0.8095,  0.4320],\n",
       "         [-0.7526,  1.5990,  0.9240],\n",
       "         [ 0.0106,  1.8498, -0.2866]]),\n",
       " tensor([[-1.8227, -0.0788,  2.0047],\n",
       "         [-0.6908,  1.6348,  0.1549],\n",
       "         [ 1.2243,  0.0380, -1.2884]]))"
      ]
     },
     "metadata": {},
     "execution_count": 4
    }
   ],
   "source": [
    "torch.split(a, 3, -1) # 通过整数，需要指定的维度能够整除"
   ]
  },
  {
   "cell_type": "code",
   "execution_count": 5,
   "metadata": {},
   "outputs": [
    {
     "output_type": "execute_result",
     "data": {
      "text/plain": [
       "(tensor([[-0.5847, -0.8095],\n",
       "         [-0.7526,  1.5990],\n",
       "         [ 0.0106,  1.8498]]),\n",
       " tensor([[ 0.4320, -1.8227],\n",
       "         [ 0.9240, -0.6908],\n",
       "         [-0.2866,  1.2243]]),\n",
       " tensor([[-0.0788,  2.0047],\n",
       "         [ 1.6348,  0.1549],\n",
       "         [ 0.0380, -1.2884]]))"
      ]
     },
     "metadata": {},
     "execution_count": 5
    }
   ],
   "source": [
    "a.chunk(3, -1) # 这里的3表示分成3个"
   ]
  },
  {
   "source": [
    "# 张量维度的扩增和压缩"
   ],
   "cell_type": "markdown",
   "metadata": {}
  },
  {
   "cell_type": "code",
   "execution_count": 6,
   "metadata": {},
   "outputs": [
    {
     "output_type": "execute_result",
     "data": {
      "text/plain": [
       "torch.Size([3, 4])"
      ]
     },
     "metadata": {},
     "execution_count": 6
    }
   ],
   "source": [
    "t = torch.rand(3, 4)\n",
    "t.shape"
   ]
  },
  {
   "cell_type": "code",
   "execution_count": 7,
   "metadata": {},
   "outputs": [
    {
     "output_type": "execute_result",
     "data": {
      "text/plain": [
       "torch.Size([3, 4, 1])"
      ]
     },
     "metadata": {},
     "execution_count": 7
    }
   ],
   "source": [
    "t.unsqueeze(-1).shape"
   ]
  },
  {
   "cell_type": "code",
   "execution_count": 8,
   "metadata": {},
   "outputs": [
    {
     "output_type": "execute_result",
     "data": {
      "text/plain": [
       "torch.Size([3, 4, 1, 1])"
      ]
     },
     "metadata": {},
     "execution_count": 8
    }
   ],
   "source": [
    "t.unsqueeze(-1).unsqueeze(-1).shape"
   ]
  },
  {
   "cell_type": "code",
   "execution_count": 9,
   "metadata": {},
   "outputs": [
    {
     "output_type": "execute_result",
     "data": {
      "text/plain": [
       "torch.Size([3, 4, 1])"
      ]
     },
     "metadata": {},
     "execution_count": 9
    }
   ],
   "source": [
    "t = torch.randn(3, 4, 1)\n",
    "t.shape"
   ]
  },
  {
   "cell_type": "code",
   "execution_count": 1,
   "metadata": {},
   "outputs": [
    {
     "output_type": "error",
     "ename": "NameError",
     "evalue": "name 't' is not defined",
     "traceback": [
      "\u001b[0;31m---------------------------------------------------------------------------\u001b[0m",
      "\u001b[0;31mNameError\u001b[0m                                 Traceback (most recent call last)",
      "\u001b[0;32m<ipython-input-1-53159c0015dd>\u001b[0m in \u001b[0;36m<module>\u001b[0;34m\u001b[0m\n\u001b[0;32m----> 1\u001b[0;31m \u001b[0mt\u001b[0m\u001b[0;34m.\u001b[0m\u001b[0msqueeze\u001b[0m\u001b[0;34m(\u001b[0m\u001b[0;34m-\u001b[0m\u001b[0;36m1\u001b[0m\u001b[0;34m)\u001b[0m\u001b[0;34m.\u001b[0m\u001b[0mshape\u001b[0m\u001b[0;34m\u001b[0m\u001b[0;34m\u001b[0m\u001b[0m\n\u001b[0m",
      "\u001b[0;31mNameError\u001b[0m: name 't' is not defined"
     ]
    }
   ],
   "source": [
    "t.squeeze(-1).shape"
   ]
  },
  {
   "cell_type": "code",
   "execution_count": null,
   "metadata": {},
   "outputs": [],
   "source": []
  }
 ]
}