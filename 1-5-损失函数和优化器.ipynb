{
 "metadata": {
  "language_info": {
   "codemirror_mode": {
    "name": "ipython",
    "version": 3
   },
   "file_extension": ".py",
   "mimetype": "text/x-python",
   "name": "python",
   "nbconvert_exporter": "python",
   "pygments_lexer": "ipython3",
   "version": "3.7.7-final"
  },
  "orig_nbformat": 2,
  "kernelspec": {
   "name": "python37764bittorchcondaee2ba53616d54d6cad91a7ece1a7d565",
   "display_name": "Python 3.7.7 64-bit ('torch': conda)"
  }
 },
 "nbformat": 4,
 "nbformat_minor": 2,
 "cells": [
  {
   "source": [
    "# 损失函数\n",
    "有两种方法：\n",
    "- torch.nn.functional库中的函数，通过传入神经网络预测值和目标值来计算算是函数\n",
    "- torch.nn库里的模块，通过新建一个类实例"
   ],
   "cell_type": "markdown",
   "metadata": {}
  },
  {
   "cell_type": "code",
   "execution_count": 1,
   "metadata": {},
   "outputs": [],
   "source": [
    "import torch"
   ]
  },
  {
   "cell_type": "code",
   "execution_count": 2,
   "metadata": {},
   "outputs": [],
   "source": [
    "mse = torch.nn.MSELoss()"
   ]
  },
  {
   "cell_type": "code",
   "execution_count": 3,
   "metadata": {},
   "outputs": [],
   "source": [
    "t1 = torch.randn(5, requires_grad=True)\n",
    "t2 = torch.randn(5, requires_grad=True)"
   ]
  },
  {
   "cell_type": "code",
   "execution_count": 4,
   "metadata": {},
   "outputs": [
    {
     "output_type": "execute_result",
     "data": {
      "text/plain": [
       "tensor(0.7396, grad_fn=<MeanBackward0>)"
      ]
     },
     "metadata": {},
     "execution_count": 4
    }
   ],
   "source": [
    "mse(t1, t2)"
   ]
  },
  {
   "cell_type": "code",
   "execution_count": 5,
   "metadata": {},
   "outputs": [
    {
     "output_type": "execute_result",
     "data": {
      "text/plain": [
       "tensor([-1.6085, -0.8710, -0.9093, -0.3729,  0.8947], requires_grad=True)"
      ]
     },
     "metadata": {},
     "execution_count": 5
    }
   ],
   "source": [
    "t1"
   ]
  },
  {
   "cell_type": "code",
   "execution_count": 6,
   "metadata": {},
   "outputs": [],
   "source": [
    "t1s = torch.sigmoid(t1)"
   ]
  },
  {
   "cell_type": "code",
   "execution_count": 7,
   "metadata": {},
   "outputs": [],
   "source": [
    "t2 = torch.randint(0, 2, (5,)).float()"
   ]
  },
  {
   "cell_type": "code",
   "execution_count": 8,
   "metadata": {},
   "outputs": [
    {
     "output_type": "execute_result",
     "data": {
      "text/plain": [
       "tensor([1., 1., 0., 1., 1.])"
      ]
     },
     "metadata": {},
     "execution_count": 8
    }
   ],
   "source": [
    "t2"
   ]
  },
  {
   "cell_type": "code",
   "execution_count": 9,
   "metadata": {},
   "outputs": [],
   "source": [
    "bce = torch.nn.BCELoss()"
   ]
  },
  {
   "cell_type": "code",
   "execution_count": 10,
   "metadata": {},
   "outputs": [
    {
     "output_type": "execute_result",
     "data": {
      "text/plain": [
       "tensor(0.9179, grad_fn=<BinaryCrossEntropyBackward>)"
      ]
     },
     "metadata": {},
     "execution_count": 10
    }
   ],
   "source": [
    "bce(t1s, t2)"
   ]
  },
  {
   "cell_type": "code",
   "execution_count": 11,
   "metadata": {},
   "outputs": [],
   "source": [
    "bce_logits = torch.nn.BCEWithLogitsLoss()"
   ]
  },
  {
   "cell_type": "code",
   "execution_count": 12,
   "metadata": {},
   "outputs": [
    {
     "output_type": "execute_result",
     "data": {
      "text/plain": [
       "tensor(0.9179, grad_fn=<BinaryCrossEntropyWithLogitsBackward>)"
      ]
     },
     "metadata": {},
     "execution_count": 12
    }
   ],
   "source": [
    "bce_logits(t1, t2)"
   ]
  },
  {
   "cell_type": "code",
   "execution_count": 13,
   "metadata": {},
   "outputs": [],
   "source": [
    "N = 10\n",
    "t1 = torch.randn(5, N, requires_grad=True)\n",
    "t2 = torch.randint(0, N, (5,))"
   ]
  },
  {
   "cell_type": "code",
   "execution_count": 14,
   "metadata": {},
   "outputs": [],
   "source": [
    "t1s = torch.nn.functional.log_softmax(t1, -1)"
   ]
  },
  {
   "cell_type": "code",
   "execution_count": 15,
   "metadata": {},
   "outputs": [
    {
     "output_type": "execute_result",
     "data": {
      "text/plain": [
       "tensor([[-3.4419, -3.6095, -2.9950, -2.2442, -5.0245, -1.6536, -3.1174, -0.8307,\n",
       "         -2.8474, -3.0175],\n",
       "        [-1.6441, -1.3460, -3.1711, -2.4874, -3.1113, -2.3566, -2.5438, -2.7046,\n",
       "         -2.5721, -2.8078],\n",
       "        [-3.2277, -2.3364, -2.4705, -2.3706, -2.7748, -2.3268, -1.8621, -1.8807,\n",
       "         -1.7115, -3.2881],\n",
       "        [-3.3912, -1.8279, -1.8819, -2.6290, -3.7985, -2.0275, -2.0662, -2.0035,\n",
       "         -1.9618, -3.6911],\n",
       "        [-3.5460, -1.7787, -2.8073, -2.6770, -1.4269, -2.3466, -3.6317, -1.9179,\n",
       "         -2.2200, -2.8925]], grad_fn=<LogSoftmaxBackward>)"
      ]
     },
     "metadata": {},
     "execution_count": 15
    }
   ],
   "source": [
    "t1s"
   ]
  },
  {
   "source": [
    "# 优化器"
   ],
   "cell_type": "markdown",
   "metadata": {}
  },
  {
   "cell_type": "code",
   "execution_count": 18,
   "metadata": {},
   "outputs": [],
   "source": [
    "lm = torch.nn.Linear(30, 15)"
   ]
  },
  {
   "cell_type": "code",
   "execution_count": 19,
   "metadata": {},
   "outputs": [],
   "source": [
    "optim = torch.optim.SGD(lm.parameters(), lr=1e-6)"
   ]
  },
  {
   "source": [
    "```python\n",
    "# 对模型的不同部分设置不同的学习率\n",
    "optim.SGD([\n",
    "    {'params': model.base.parameters()},\n",
    "    {'params': model.classifier.parameters(), 'lr'=1e-3},\n",
    "], lr=1e-2, momentum=0.9)\n",
    "```"
   ],
   "cell_type": "markdown",
   "metadata": {}
  },
  {
   "source": [
    "torch.optim 包还提供了学习率衰减的相关类，这些类都在torch.optim.lr_scheduler中"
   ],
   "cell_type": "markdown",
   "metadata": {}
  },
  {
   "cell_type": "code",
   "execution_count": 21,
   "metadata": {},
   "outputs": [],
   "source": [
    "schduler = torch.optim.lr_scheduler.StepLR(optim, step_size=30, gamma=0.1)"
   ]
  },
  {
   "cell_type": "code",
   "execution_count": null,
   "metadata": {},
   "outputs": [],
   "source": []
  }
 ]
}